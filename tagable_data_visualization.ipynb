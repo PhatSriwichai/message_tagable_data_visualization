{
  "nbformat": 4,
  "nbformat_minor": 0,
  "metadata": {
    "colab": {
      "name": "tagable_data_visualization.ipynb",
      "version": "0.3.2",
      "provenance": []
    },
    "kernelspec": {
      "name": "python3",
      "display_name": "Python 3"
    }
  },
  "cells": [
    {
      "metadata": {
        "id": "9youhGY80vmo",
        "colab_type": "code",
        "colab": {}
      },
      "cell_type": "code",
      "source": [
        "! mkdir data"
      ],
      "execution_count": 0,
      "outputs": []
    },
    {
      "metadata": {
        "id": "lAJamKse2RkS",
        "colab_type": "code",
        "colab": {}
      },
      "cell_type": "code",
      "source": [
        "import matplotlib.pyplot as plt"
      ],
      "execution_count": 0,
      "outputs": []
    },
    {
      "metadata": {
        "id": "6GpD8tx51G4X",
        "colab_type": "code",
        "colab": {}
      },
      "cell_type": "code",
      "source": [
        "from tensorflow.python.lib.io import file_io\n",
        "import pandas as pd\n",
        "\n",
        "def read_multiple_csv(path):\n",
        "    with file_io.FileIO(path, mode='r') as file:\n",
        "        df = pd.read_csv(file, index_col=None, header=0)\n",
        "    return df"
      ],
      "execution_count": 0,
      "outputs": []
    },
    {
      "metadata": {
        "id": "6MWXNfSZ1P7j",
        "colab_type": "code",
        "colab": {
          "base_uri": "https://localhost:8080/",
          "height": 119
        },
        "outputId": "5100820e-e9f9-43ef-b861-7b4b940f260b"
      },
      "cell_type": "code",
      "source": [
        "df = read_multiple_csv('/content/data/tagable-100.csv')\n",
        "print(df.head())"
      ],
      "execution_count": 7,
      "outputs": [
        {
          "output_type": "stream",
          "text": [
            "   word_count  edu_count  tagable\n",
            "0          65          2        1\n",
            "1         143          2        1\n",
            "2          62          2        1\n",
            "3          30          1        1\n",
            "4          31          1        1\n"
          ],
          "name": "stdout"
        }
      ]
    },
    {
      "metadata": {
        "id": "95DPAqeC1-DI",
        "colab_type": "code",
        "colab": {
          "base_uri": "https://localhost:8080/",
          "height": 376
        },
        "outputId": "9e847467-3656-4fb4-f310-c59e708835a8"
      },
      "cell_type": "code",
      "source": [
        "def point_graph(df):\n",
        "  tagabled_word_count = []\n",
        "  tagabled_edu = []\n",
        "  non_tagabled_word_count = []\n",
        "  non_tagabled_edu = []\n",
        "  for i in range(len(df['tagable'])):\n",
        "    if df['tagable'][i] == 1:\n",
        "      tagabled_word_count.append(df['word_count'][i])\n",
        "      tagabled_edu.append(df['edu_count'][i])\n",
        "    else:\n",
        "      non_tagabled_word_count.append(df['word_count'][i])\n",
        "      non_tagabled_edu.append(df['edu_count'][i])\n",
        "      \n",
        "  plt.xlabel(\"word count\")\n",
        "  plt.ylabel(\"edu count\")\n",
        "  plt.title(\"Graph 1\")\n",
        "  plt.plot(tagabled_word_count, tagabled_edu, 'ro', label=\"tagable\", color='b')\n",
        "  plt.plot(non_tagabled_word_count, non_tagabled_edu, 'ro', label=\"non tagable\", color='r')\n",
        "  plt.plot()\n",
        "  \n",
        "  plt.legend()\n",
        "  plt.show()\n",
        "\n",
        "point_graph(df)"
      ],
      "execution_count": 14,
      "outputs": [
        {
          "output_type": "display_data",
          "data": {
            "image/png": "[encoded data removed]",
            "text/plain": [
              "<Figure size 576x396 with 1 Axes>"
            ]
          },
          "metadata": {
            "tags": []
          }
        }
      ]
    }
  ]
}